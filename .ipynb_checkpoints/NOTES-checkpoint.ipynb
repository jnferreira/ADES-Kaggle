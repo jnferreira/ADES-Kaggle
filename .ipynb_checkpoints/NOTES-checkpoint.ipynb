{
 "cells": [
  {
   "cell_type": "markdown",
   "metadata": {},
   "source": [
    "## Iteration 1\n",
    "### xgb = XGBClassifier(n_estimators=100)\n",
    "* Todas as features\n",
    "* features não numericas, transformadas com label encoder\n",
    "#### XGBoost's prediction accuracy is: 99.98\n",
    "#### Kaggle score 0.99975"
   ]
  },
  {
   "cell_type": "markdown",
   "metadata": {},
   "source": [
    "## Iteration 2\n",
    "### clf = lgb.LGBMClassifier()\n",
    "\n",
    "* Todas as features\n",
    "* features não numericas, transformadas com label encoder\n",
    "#### XGBoost's prediction accuracy is: 99.98\n",
    "#### Kaggle score 0.99987"
   ]
  },
  {
   "cell_type": "markdown",
   "metadata": {},
   "source": [
    "## Iteration 3\n",
    "### kmeans = KMeans(n_clusters=2)\n",
    "\n",
    "* Todas as features\n",
    "* features não numericas, transformadas com label encoder\n",
    "#### Kaggle score 0.50000"
   ]
  }
 ],
 "metadata": {
  "kernelspec": {
   "display_name": "Python 3",
   "language": "python",
   "name": "python3"
  },
  "language_info": {
   "codemirror_mode": {
    "name": "ipython",
    "version": 3
   },
   "file_extension": ".py",
   "mimetype": "text/x-python",
   "name": "python",
   "nbconvert_exporter": "python",
   "pygments_lexer": "ipython3",
   "version": "3.8.5"
  }
 },
 "nbformat": 4,
 "nbformat_minor": 4
}
